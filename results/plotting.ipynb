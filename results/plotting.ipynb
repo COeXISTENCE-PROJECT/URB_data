{
 "cells": [
  {
   "cell_type": "code",
   "execution_count": null,
   "id": "defddf36",
   "metadata": {},
   "outputs": [],
   "source": [
    "import routerl"
   ]
  },
  {
   "cell_type": "code",
   "execution_count": null,
   "id": "d33219e5",
   "metadata": {},
   "outputs": [],
   "source": [
    "exp_name = \"pro_iql_2\"\n",
    "\n",
    "plotter_params = {\n",
    "        \"records_folder\": f\"{exp_name}\",\n",
    "        \"plots_folder\": f\"{exp_name}/plots\",\n",
    "        \n",
    "        \"plot_choices\" : \"basic\",\n",
    "\n",
    "        \"smooth_by\" : 10,\n",
    "        \"phases\" : [1, 200, 6200],\n",
    "        \"phase_names\" : [\n",
    "            \"Human stabilization\", \n",
    "            \"Mutation and AV learning\",\n",
    "            \"Testing phase\"\n",
    "        ]\n",
    "}"
   ]
  },
  {
   "cell_type": "code",
   "execution_count": null,
   "id": "5cb3a597",
   "metadata": {},
   "outputs": [],
   "source": [
    "plotter = routerl.Plotter(plotter_params)"
   ]
  },
  {
   "cell_type": "code",
   "execution_count": null,
   "id": "cd1bb016",
   "metadata": {},
   "outputs": [],
   "source": [
    "plotter.plot()"
   ]
  }
 ],
 "metadata": {
  "kernelspec": {
   "display_name": "venv",
   "language": "python",
   "name": "python3"
  },
  "language_info": {
   "codemirror_mode": {
    "name": "ipython",
    "version": 3
   },
   "file_extension": ".py",
   "mimetype": "text/x-python",
   "name": "python",
   "nbconvert_exporter": "python",
   "pygments_lexer": "ipython3",
   "version": "3.9.6"
  }
 },
 "nbformat": 4,
 "nbformat_minor": 5
}
