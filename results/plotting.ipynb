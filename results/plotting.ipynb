{
 "cells": [
  {
   "cell_type": "code",
   "execution_count": 1,
   "id": "defddf36",
   "metadata": {},
   "outputs": [
    {
     "name": "stderr",
     "output_type": "stream",
     "text": [
      "/Users/akman/URB_data/venv/lib/python3.9/site-packages/urllib3/__init__.py:35: NotOpenSSLWarning: urllib3 v2 only supports OpenSSL 1.1.1+, currently the 'ssl' module is compiled with 'LibreSSL 2.8.3'. See: https://github.com/urllib3/urllib3/issues/3020\n",
      "  warnings.warn(\n"
     ]
    }
   ],
   "source": [
    "import routerl"
   ]
  },
  {
   "cell_type": "code",
   "execution_count": 5,
   "id": "d33219e5",
   "metadata": {},
   "outputs": [],
   "source": [
    "exp_name = \"pro_ipp_2\"\n",
    "\n",
    "plotter_params = {\n",
    "        \"records_folder\": f\"{exp_name}\",\n",
    "        \"plots_folder\": f\"{exp_name}/plots\",\n",
    "        \n",
    "        \"plot_choices\" : \"basic\",\n",
    "\n",
    "        \"smooth_by\" : 10,\n",
    "        \"phases\" : [1, 200, 6200],\n",
    "        \"phase_names\" : [\n",
    "            \"Human stabilization\", \n",
    "            \"Mutation and AV learning\",\n",
    "            \"Testing phase\"\n",
    "        ]\n",
    "}"
   ]
  },
  {
   "cell_type": "code",
   "execution_count": 6,
   "id": "5cb3a597",
   "metadata": {},
   "outputs": [],
   "source": [
    "plotter = routerl.Plotter(plotter_params)"
   ]
  },
  {
   "cell_type": "code",
   "execution_count": 7,
   "id": "cd1bb016",
   "metadata": {},
   "outputs": [],
   "source": [
    "plotter.plot()"
   ]
  }
 ],
 "metadata": {
  "kernelspec": {
   "display_name": "venv",
   "language": "python",
   "name": "python3"
  },
  "language_info": {
   "codemirror_mode": {
    "name": "ipython",
    "version": 3
   },
   "file_extension": ".py",
   "mimetype": "text/x-python",
   "name": "python",
   "nbconvert_exporter": "python",
   "pygments_lexer": "ipython3",
   "version": "3.9.6"
  }
 },
 "nbformat": 4,
 "nbformat_minor": 5
}
